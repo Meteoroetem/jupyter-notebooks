{
 "cells": [
  {
   "cell_type": "markdown",
   "metadata": {},
   "source": [
    "## Refreshers for 11th Grad\n",
    "Small tasks for the first week of 11th grade\n",
    "\n",
    "    1. כתוב תוכנית הקולטת 2 משתנים שהם השנה שנולדת והשנה הנוכחית. התוכנית תחשב את גילך.\n",
    "    2. כתוב תוכנית הקולטת אלכסון וצלע  של מלבן , התוכנית תחשב את השטח והיקף המלבן.\n",
    "    3. כתוב תוכנית הקולטת את גילך בשנים ומחשבת ומדפיסה את הגיל בימים, בשעות ובשניות.\n",
    "    4. כתוב תוכני הקולטת 3 מספרים ומדפיסה אותם בסדר הפוך.\n",
    "    5. כתוב תוכנית הקולטת מספר בן 3 ספרות ומדפיסה את אותו המספר בסדר ספרות הפוך. התוכנית גם מציינת מי משני המספרים גדול יותר.\n",
    "    6. כתוב תוכנית שמחשבת את הזרם במעגל עם ארבעה נגדים המחוברים במקביל. התוכנית מקבלת מהמשתמש את ערכי הנגדים ואת מתח הספק.\n",
    "    7. כתוב תוכנית המקבלת את המקדמים של משוואה ריבועית. התוכנית תדפיס את ערכי שורשי המשוואה.\n",
    "    8. כתוב תוכנית המקבלת שני מספרים ומעגלת אותם (כלפי מטה) לערכים השלמים. התוכנית תבדוק אם המספר הגדול מבין השניים מתחלק בקטן ללא שארית.\n",
    "\n",
    "\n"
   ]
  },
  {
   "cell_type": "markdown",
   "metadata": {},
   "source": [
    "### Task no. 1"
   ]
  },
  {
   "cell_type": "code",
   "execution_count": 2,
   "metadata": {},
   "outputs": [
    {
     "name": "stdout",
     "output_type": "stream",
     "text": [
      "your age is probably 16\n"
     ]
    }
   ],
   "source": [
    "import datetime\n",
    "inp = int(input('Enter your birth year: '))\n",
    "print(f'your age is probably {datetime.date.today().year-inp}')"
   ]
  },
  {
   "cell_type": "markdown",
   "metadata": {},
   "source": [
    "### Task no. 2"
   ]
  },
  {
   "cell_type": "code",
   "execution_count": 6,
   "metadata": {},
   "outputs": [
    {
     "name": "stdout",
     "output_type": "stream",
     "text": [
      "The perimeter: 14.0\n",
      "The area: 12.0\n"
     ]
    }
   ],
   "source": [
    "inp = str(input('Enter the diagonal and one side of a rectangle, seperated by a space: '))\n",
    "words = inp.split(' ')\n",
    "diagonal = int(words[0])\n",
    "side = int(words[1])\n",
    "\n",
    "print(f'The perimeter: {2 * side + 2 * ((diagonal**2-side**2)**0.5)}\\n' + \n",
    "      f'The area: {side * ((diagonal**2-side**2)**0.5)}'\n",
    "      )"
   ]
  },
  {
   "cell_type": "markdown",
   "metadata": {},
   "source": [
    "### Task no. 3"
   ]
  },
  {
   "cell_type": "code",
   "execution_count": 1,
   "metadata": {},
   "outputs": [
    {
     "name": "stdout",
     "output_type": "stream",
     "text": [
      "Your age in days: 5840\n",
      "Your age in hours: 140160\n",
      "Your age in seconds: 8409600\n"
     ]
    }
   ],
   "source": [
    "inp = int(input('Enter your age in years: '))\n",
    "ageDays = inp*365\n",
    "ageHours = ageDays*24\n",
    "ageSec = ageHours*60\n",
    "\n",
    "print(f'Your age in days: {ageDays}\\nYour age in hours: {ageHours}\\nYour age in seconds: {ageSec}')"
   ]
  },
  {
   "cell_type": "markdown",
   "metadata": {},
   "source": [
    "### Task 4."
   ]
  },
  {
   "cell_type": "code",
   "execution_count": 5,
   "metadata": {},
   "outputs": [
    {
     "name": "stdout",
     "output_type": "stream",
     "text": [
      "778 56 12\n"
     ]
    }
   ],
   "source": [
    "inp = str(input('enter three numbers seperated by a space: '))\n",
    "nums = [int(num) for num in inp.split(' ')]\n",
    "print(nums[2], nums[1], nums[0])"
   ]
  },
  {
   "cell_type": "markdown",
   "metadata": {},
   "source": [
    "### Task no. 5"
   ]
  },
  {
   "cell_type": "code",
   "execution_count": 6,
   "metadata": {},
   "outputs": [
    {
     "name": "stdout",
     "output_type": "stream",
     "text": [
      "341\n"
     ]
    }
   ],
   "source": [
    "inp = str(input('enter a 3-digit num: '))\n",
    "print(inp[::-1])"
   ]
  },
  {
   "cell_type": "markdown",
   "metadata": {},
   "source": [
    "### Task no. 7"
   ]
  },
  {
   "cell_type": "code",
   "execution_count": 10,
   "metadata": {},
   "outputs": [
    {
     "name": "stdout",
     "output_type": "stream",
     "text": [
      "The flowing current in the circuit is 2.0A\n"
     ]
    }
   ],
   "source": [
    "inp = str(input('Enter four resistor values and voltage source, seperated by a space:'))\n",
    "values = [int(value) for value in inp.split(' ')]\n",
    "print(f'The flowing current in the circuit is {values[4]/(values[0]+values[1]+values[2]+values[3])}A')"
   ]
  },
  {
   "cell_type": "markdown",
   "metadata": {},
   "source": [
    "### Task no. 8"
   ]
  },
  {
   "cell_type": "code",
   "execution_count": 12,
   "metadata": {},
   "outputs": [
    {
     "name": "stdout",
     "output_type": "stream",
     "text": [
      "Do the numbers divide without remainder? True\n"
     ]
    }
   ],
   "source": [
    "inp = str(input('Enter two floating-point numbers: '))\n",
    "nums = [int(float(num)) for num in inp.split(' ')]\n",
    "print(f'Do the numbers divide without remainder? {(nums[0] if nums[0] > nums[1] else nums[1])%(nums[1] if nums[1] > nums[0] else nums[0]) == 0}')"
   ]
  }
 ],
 "metadata": {
  "kernelspec": {
   "display_name": "Python 3",
   "language": "python",
   "name": "python3"
  },
  "language_info": {
   "codemirror_mode": {
    "name": "ipython",
    "version": 3
   },
   "file_extension": ".py",
   "mimetype": "text/x-python",
   "name": "python",
   "nbconvert_exporter": "python",
   "pygments_lexer": "ipython3",
   "version": "3.8.10"
  },
  "orig_nbformat": 4
 },
 "nbformat": 4,
 "nbformat_minor": 2
}
