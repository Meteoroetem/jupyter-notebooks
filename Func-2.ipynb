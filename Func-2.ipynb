{
 "cells": [
  {
   "cell_type": "markdown",
   "metadata": {},
   "source": [
    "# דף עבודה פונקציות חלק ב"
   ]
  },
  {
   "cell_type": "markdown",
   "metadata": {},
   "source": [
    "## שאלה 1\n",
    "1. לא יהיה פלט כיוון שאף אחת הפונקציות לא נקראות בתוכנית\n",
    "2. הפלט לא ישתנה, הפונקציה לא נקראת בתוכנית\n",
    "3. הפלט לא ישתנה בשלישית, לא קוראים לאף אחת מהפונקציות בתוכנית\n",
    "4. משמעות המילה\n",
    "\n",
    "    def \n",
    "\n",
    "    היא להגדיר פונקציה חדשה\n",
    "5. סדר ההוראות משפיע על סדר הפלטים"
   ]
  },
  {
   "cell_type": "markdown",
   "metadata": {},
   "source": [
    "## שאלה 2\n",
    "יש לכתוב פונקציה בשם \n",
    "\n",
    "personal_details \n",
    "\n",
    "המדפיסה את שמכם המלא, מספר הטלפון הנייד ומספר תחביבים. כך פלט יש להגדיר בשורה נפרדת."
   ]
  },
  {
   "cell_type": "code",
   "execution_count": null,
   "metadata": {},
   "outputs": [],
   "source": [
    "personal_details = lambda fullName, phoneNumber, hobbiesCount : f'{fullName}\\n{phoneNumber}\\n{hobbiesCount}'"
   ]
  },
  {
   "cell_type": "markdown",
   "metadata": {},
   "source": [
    "## שאלה 3\n"
   ]
  },
  {
   "cell_type": "code",
   "execution_count": null,
   "metadata": {},
   "outputs": [],
   "source": [
    "simple_calculator = lambda num1, operChar, num2 : eval(f\"{num1} {operChar} {num2}\")"
   ]
  },
  {
   "cell_type": "markdown",
   "metadata": {},
   "source": [
    "## שאלה 4"
   ]
  },
  {
   "cell_type": "code",
   "execution_count": null,
   "metadata": {},
   "outputs": [],
   "source": [
    "avgComments = [\"יש לשפר ציונים\", \"מספיק\", \"טוב מאוד\", \"הצטיינות יתרה\"]\n",
    "avgComment = lambda avg : avgComments[avg//30]\n",
    "print(avgComment(50))"
   ]
  },
  {
   "cell_type": "markdown",
   "metadata": {},
   "source": [
    "## שאלה 4\n"
   ]
  },
  {
   "cell_type": "code",
   "execution_count": null,
   "metadata": {},
   "outputs": [],
   "source": [
    "shapes = [\n",
    "    \"#####\\n#####\\n#####\\n#####\\n#####\",\n",
    "    \"#\\n##\\n###\\n####\\n#####\",\n",
    "    \"  #  \\n ### \\n#####\\n#####\"\n",
    "]\n",
    "def GetShaope(num):\n",
    "    try:\n",
    "        return shapes[num-1]\n",
    "    except IndexError as e:\n",
    "        return f\"{e}: Not a valid number\"\n",
    "        "
   ]
  },
  {
   "cell_type": "markdown",
   "metadata": {},
   "source": [
    "## שאלה 5"
   ]
  },
  {
   "cell_type": "code",
   "execution_count": null,
   "metadata": {},
   "outputs": [],
   "source": [
    "animalLegs = {\"spider\" : 8, \"beetle\" : 6, \"dog\" : 4, \"cat\" : 4, \"chicken\" : 2, \"ant\" : 6}\n",
    "def GetAnimalLeg(name:str):\n",
    "    try:\n",
    "        return animalLegs[name.lower()]\n",
    "    except Exception:\n",
    "        return 1"
   ]
  },
  {
   "cell_type": "markdown",
   "metadata": {},
   "source": [
    "## שאלה 6"
   ]
  },
  {
   "cell_type": "code",
   "execution_count": null,
   "metadata": {},
   "outputs": [],
   "source": [
    "Calculate = lambda num1, num2 : f\"{num1 + num2}\\n{num1 - num2}\\n{num1 * num2}\\n{num1 / num2}\"\n",
    "print(Calculate(3,6))"
   ]
  }
 ],
 "metadata": {
  "kernelspec": {
   "display_name": "Python 3",
   "language": "python",
   "name": "python3"
  },
  "language_info": {
   "codemirror_mode": {
    "name": "ipython",
    "version": 3
   },
   "file_extension": ".py",
   "mimetype": "text/x-python",
   "name": "python",
   "nbconvert_exporter": "python",
   "pygments_lexer": "ipython3",
   "version": "3.10.13"
  }
 },
 "nbformat": 4,
 "nbformat_minor": 2
}
