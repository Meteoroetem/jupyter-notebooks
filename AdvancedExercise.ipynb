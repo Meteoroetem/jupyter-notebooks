{
 "cells": [
  {
   "cell_type": "markdown",
   "metadata": {},
   "source": [
    "# רשימות - תרגילים מתקדמים"
   ]
  },
  {
   "cell_type": "markdown",
   "metadata": {},
   "source": [
    "## תרגיל 1\n",
    "א. כתוב תוכנית שמייצרת רשימה ריקה וממלאת אותו 10 ערכים אקראיים בין 0 100\n",
    "\n",
    "ב. הצג את הרשימה שקבלת ממוינת מהערך הקטן לגדול\n",
    "\n",
    "ג. תעתיק את הרשימה לתוך רשימה אחרת ושם תמיין אותה מהגדול לקטן\n",
    "\n",
    "ד. הדפס את האיברים 3 עד 8 ברשימה הממוינת מסעיף ג'\n"
   ]
  },
  {
   "cell_type": "code",
   "execution_count": null,
   "metadata": {},
   "outputs": [],
   "source": [
    "import random\n",
    "list = [random.randrange(0, 100) for i in range(10)]\n",
    "print(f\"Sorted List: {sorted(list)}\\n3 to 8 from reversed list: {sorted(list, reverse=True)[3:8]}\")"
   ]
  },
  {
   "cell_type": "markdown",
   "metadata": {},
   "source": [
    "## תרגיל 2\n",
    "א. הפלט יהיה\n",
    "\n",
    "[1, 2, 3, 4, 5, 6, 7, 8, 9, 10]\n",
    "\n",
    "ב. הפלט יהיה\n",
    "\n",
    "[1, 2, 3, 4, 5, 6, 7, 8, 9, 10]\n",
    "\n",
    "בשיטה השנייה משתמשים בקיצור שדרך שמובנה בשפת הפייטון, בעוד שהשיטה הראשונה משתמשת בדרך יותר סטנדרטית וארוכה"
   ]
  }
 ],
 "metadata": {
  "language_info": {
   "name": "python"
  }
 },
 "nbformat": 4,
 "nbformat_minor": 2
}
