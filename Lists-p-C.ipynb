{
 "cells": [
  {
   "cell_type": "markdown",
   "metadata": {},
   "source": [
    "# דף עבודה רשימות - חלק ג\n",
    "## שאלה 1\n",
    "כתבו קטע תכנית המקבלת כקלט מספר שלם וזוגי, ויוצר רשימה מטיפוס שלם בגודל הערך שנקלט. כאשר במחציתו הראשונה אברי הרשימה יהיו עם הערך  0, ובאברי הרשימה הנמצאים במחציתו השנייה יהיה הערך  1.\n",
    "לדוגמה: עבור הקלט המספר 8 הרשימה תראה כך  [ my_list = [0,0,0,0,1,1,1,1"
   ]
  },
  {
   "cell_type": "code",
   "execution_count": 11,
   "metadata": {},
   "outputs": [
    {
     "name": "stdout",
     "output_type": "stream",
     "text": [
      "[0, 0, 1, 1, 1, 1, 1, 1]\n"
     ]
    }
   ],
   "source": [
    "length = int(input('Write an even number: '))\n",
    "print([0 if i < length/2 else 1 for i in range(length)])"
   ]
  },
  {
   "cell_type": "markdown",
   "metadata": {},
   "source": [
    "## שאלה 2\n",
    "כתבו תכנית המקבלת כקלט את זמני ההקפה של כל אחד מארבעים משתתפי מרוץ. האלגוריתם יציג  כפלט את מספר המשתתפים שביצעו הקפה בזמן נמוך מהזמן הממוצע של כלל המשתתפים."
   ]
  },
  {
   "cell_type": "code",
   "execution_count": null,
   "metadata": {},
   "outputs": [],
   "source": [
    "roundTimes = [int(input('Write the amount of time it took: ')) for i in range(40)]\n",
    "print(len([roundTime for roundTime in roundTimes if roundTime < sum(roundTimes)/40]))"
   ]
  },
  {
   "cell_type": "markdown",
   "metadata": {},
   "source": [
    "## שאלה 3\n",
    "לכיתה המדעית טכנולוגית (עמ\"ט) יתקבלו רק תלמידים אשר ציוניהם במבחן הקבלה גבוהה מהממוצע של הניגשים למבחן.\n",
    "פתחו אלגוריתם אשר קולט את מספר הניגשים למבחן, ואחר כך קולט את רשימת הציונים של הנבחנים. פלט האלגוריתם יהיה מספר התלמידים המתקבלים לכיתה.\n",
    "ניתן להניח כי לפחות תלמיד אחד ניגש למבחן."
   ]
  },
  {
   "cell_type": "code",
   "execution_count": null,
   "metadata": {},
   "outputs": [],
   "source": [
    "grades = [int(input('Enter a grade: ')) for i in range(int(input('Write the number of students: ')))]\n",
    "print(len([grade for grade in grades if grade > sum(grades)/len(grades)]))"
   ]
  },
  {
   "cell_type": "markdown",
   "metadata": {},
   "source": [
    "## שאלה 4\n",
    "כתבו תכנית המקבלת רשימה של ערכים ובודקת שהרשימה הינה בסדר עולה. לדוגמה הרשימה הבאה היא בסדר עולה           \n",
    "\n",
    "numbers=[11,22,33,44]\n",
    "\n",
    "ואילו הרשימה הזו אינה בסדר עולה      \n",
    "\n",
    "numbers=[11,22,77,44]"
   ]
  },
  {
   "cell_type": "code",
   "execution_count": null,
   "metadata": {},
   "outputs": [],
   "source": [
    "print(sorted(list := [int(input(\"Write a number: \")) for i in range(5)]) == list)"
   ]
  },
  {
   "cell_type": "markdown",
   "metadata": {},
   "source": [
    "## שאלה 5\n",
    "כתבו קטע קוד אשר בודק ומציג הודעה אם שתי הרשימות מכילות את אותם איברים בדיוק ובאותו סדר."
   ]
  },
  {
   "cell_type": "code",
   "execution_count": null,
   "metadata": {},
   "outputs": [],
   "source": [
    "print([int(input('Enter a number for the first list: ')) for i in range(5)] == [int(input('Enter a number for the second list: ')) for i in range(5)])"
   ]
  },
  {
   "cell_type": "markdown",
   "metadata": {},
   "source": [
    "## שאלה 6\n",
    "תלמידי כיתה ט המונה 25 תלמידים ניגשו ל-2 מבחנים במדעי המחשב. הוחלט שהציון הגבוה מבין השניים יהיה הציון הקובע לתעודה.\n",
    "\n",
    "כתבו קטע הקוד המגדיר 3 רשימות\n",
    "\n",
    " names, gradeA, gradeB\n",
    " \n",
    "  וקולט את שמות התלמידים ל\n",
    "\n",
    "  names\n",
    "  \n",
    "וכן את 2 הציונים עבור כל תלמיד.\n",
    "\n",
    "האלגוריתם ימלא רשימה \n",
    "\n",
    "gradeC\n",
    "\n",
    "כך שיכיל את הציון הקובע לתעודה.\n",
    "\n",
    "יש להדפיס עבור כל תלמיד את שמו ואת ציונו בבחינה הראשונה, השנייה וכן את הציון הקובע לתעודה."
   ]
  },
  {
   "cell_type": "code",
   "execution_count": null,
   "metadata": {},
   "outputs": [],
   "source": [
    "students = [dict(zip(['Name', 'Grade A', 'Grade B'], str(input('Enter a name and two grades seperated by spaces: ')).split(' '))) for i in range(3)]\n",
    "print(\"\\n\".join([\", \".join([f\"{key}: {value}\" for key, value in list(student.items()) + [(\"Final Grade\", max(student[\"Grade A\"], student[\"Grade B\"]))]]) for student in students]))"
   ]
  },
  {
   "cell_type": "markdown",
   "metadata": {},
   "source": [
    "## שאלה 7\n",
    "כתבו קטע קוד המקבל כקלט רשימה\n",
    "\n",
    " numbers\n",
    " \n",
    "של 20 תלמידי הכיתה.\n",
    "\n",
    " האלגוריתם יעתיק את הציונים מעל 55 לרשימה\n",
    "  \n",
    "  pass\n",
    "\n",
    "   ואת הציונים הנכשלים לרשימה\n",
    "  \n",
    "fail"
   ]
  },
  {
   "cell_type": "code",
   "execution_count": null,
   "metadata": {},
   "outputs": [],
   "source": [
    "numbers = [int(input('Enter a grade: ')) for i in range(20)] \n",
    "passed = [number for number in numbers if number > 55]\n",
    "failed = [number for number in numbers if number <= 55]"
   ]
  }
 ],
 "metadata": {
  "kernelspec": {
   "display_name": "Python 3",
   "language": "python",
   "name": "python3"
  },
  "language_info": {
   "codemirror_mode": {
    "name": "ipython",
    "version": 3
   },
   "file_extension": ".py",
   "mimetype": "text/x-python",
   "name": "python",
   "nbconvert_exporter": "python",
   "pygments_lexer": "ipython3",
   "version": "3.11.5"
  }
 },
 "nbformat": 4,
 "nbformat_minor": 2
}
