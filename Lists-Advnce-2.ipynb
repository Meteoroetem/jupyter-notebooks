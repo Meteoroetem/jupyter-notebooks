{
 "cells": [
  {
   "cell_type": "markdown",
   "metadata": {},
   "source": [
    "# תרגילים מתקדמים ברשימות - חלק 2"
   ]
  },
  {
   "cell_type": "markdown",
   "metadata": {},
   "source": [
    "## שאלה 1\n",
    "כתוב תוכנית שמחפשת איברים שמופיעים 3 פעמים ברצף בתוך רשימה"
   ]
  },
  {
   "cell_type": "code",
   "execution_count": null,
   "metadata": {},
   "outputs": [],
   "source": [
    "def GetThreeAdjacent(lis):\n",
    "    return [lis[i] for i in range(len(lis)-3) if lis[i] == lis[i+1] == lis[i+2]]"
   ]
  },
  {
   "cell_type": "markdown",
   "metadata": {},
   "source": [
    "## שאלה 2\n",
    "ברשימה שמורכבת ממספרים שלמים יש למצוא מספרים חיוביים ולהעתיק אותם לרשימה חדשה. מרשימה החדשה יש \n",
    "     להדפיס את המספר הראשון, המספר השלישי והמספר השישי ולהדפיס את מכפלתם ."
   ]
  },
  {
   "cell_type": "code",
   "execution_count": null,
   "metadata": {},
   "outputs": [],
   "source": [
    "def GetAnswer(lis):\n",
    "    return (newList := [i for i in lis if i > 0])[0], newList[2], newList[5], newList[0]*newList[2]*newList[5]"
   ]
  },
  {
   "cell_type": "markdown",
   "metadata": {},
   "source": [
    "## שאלה 3\n",
    "יש למצוא חיתוך של 2 רשימות ולהדפיס אותו"
   ]
  },
  {
   "cell_type": "code",
   "execution_count": null,
   "metadata": {},
   "outputs": [],
   "source": [
    "def GetIntersection(listA, listB):\n",
    "    return list(set(listA) & set(listB))"
   ]
  },
  {
   "cell_type": "markdown",
   "metadata": {},
   "source": [
    "## שאלה 4\n",
    "ברשימה חד ממדית מצא את  המספר הקטן ביותר ואת המספר הגדול ביותר . הורד אותם מהרשימה .מצא  את סכום\n",
    "     המספרים שנמצאים עד למספר הגדול ביותר "
   ]
  },
  {
   "cell_type": "code",
   "execution_count": 16,
   "metadata": {},
   "outputs": [],
   "source": [
    "def GetAnswer(lis):\n",
    "    sortedList = sorted([[i, lis[i]] for i in range(len(lis))], key = lambda item : item[1])\n",
    "    maxIsFirst = sortedList[0][0] > sortedList[len(sortedList)-1][0]\n",
    "    lis.pop(sortedList[0][0])\n",
    "    lis.pop(sortedList[len(sortedList)-1][0] if maxIsFirst else sortedList[len(sortedList)-1][0] - 1)\n",
    "    return sum(lis[:sortedList[len(sortedList)-1][0] - 1 * (not maxIsFirst)])"
   ]
  },
  {
   "cell_type": "markdown",
   "metadata": {},
   "source": [
    "## שאלה 5\n",
    "כתוב תוכנית שבודקת כמות איברים במערך שערכם יותר גדול מערכם של השכנים שלהם. לדוגמה  8 9 3 7 2 נותן 2 \n",
    "     איברים. כדי לענות על השאלה, יש להשוות בין כל אחד מהאברים ברשימה לבין הקרוב ולבין הבא. אם הוא גדול מהם,\n",
    "     הגדל את המספר. בפריט הראשון והאחרון יש רק \"שכן\" אחד. לכן אם הראשונים והאחרונים נלקחים בחשבון, יש לעבד\n",
    "     אותם בנפרד"
   ]
  },
  {
   "cell_type": "code",
   "execution_count": null,
   "metadata": {},
   "outputs": [],
   "source": [
    "def GetAnswer(lis):\n",
    "    return [((lis[i] > lis[i-1]) if i > 0 else True) and ((lis[i] > lis[i+1]) if i < len(lis)-1 else True) for i in range(len(lis))]    "
   ]
  },
  {
   "cell_type": "markdown",
   "metadata": {},
   "source": [
    "## שאלה 6\n",
    "כתוב תוכנית שמקבלת ממשתמש רשימה (עד למספר 0) ומעתיק אותה לרשימה חדשה בסדר הפוך. יש להדפיס רשימה\n",
    "    מקורית ורשימה סופית. (פתור ללא פונקציה מיוחדת של טיפול ברשימות ועם פונקציה מיוחדת("
   ]
  },
  {
   "cell_type": "code",
   "execution_count": null,
   "metadata": {},
   "outputs": [],
   "source": [
    "nums = []\n",
    "rNums = []\n",
    "while (inp := int(input('Write a number: '))) != 0:\n",
    "    nums.append(inp)\n",
    "    rNums.insert(0, inp)\n",
    "print(f\"Nums: {nums}\\nrNums: {rNums}\")"
   ]
  },
  {
   "cell_type": "markdown",
   "metadata": {},
   "source": [
    "## שאלה 7\n",
    "תגדיר 2 רשימות בעל 10 מקומות. תכניס לכל רשימה ערכים אקרא יים מ 0- עד ,100 כך שכל מספר בתוך רשימה יהיה\n",
    "     ייחודי. תאחד 2 רשימות האלה לרשימה שלישית כך שאם קיים אותו מספר גם ברשימה ראשונה וגם בשנייה, מעתיקים רק\n",
    "     פעם אחד את המספר. לדוגמא:\n"
   ]
  },
  {
   "cell_type": "code",
   "execution_count": null,
   "metadata": {},
   "outputs": [],
   "source": [
    "import random as r\n",
    "def ChooseAndRemove(rangeList):\n",
    "    choice = r.choice(rangeList)\n",
    "    rangeList.remove(choice)\n",
    "    return choice\n",
    "\n",
    "rangeList = list(range(100))\n",
    "listA = [ChooseAndRemove(rangeList) for i in range(10)]\n",
    "rangeList = list(range(100))\n",
    "listB = [ChooseAndRemove(rangeList) for i in range(10)]\n",
    "intersection = set(listA) & set(listB)\n",
    "print([num for num in listA+listB if (listA+listB).count(num) < 2] + list(intersection))"
   ]
  },
  {
   "cell_type": "markdown",
   "metadata": {},
   "source": [
    "## שאלה 8\n",
    "כתוב תוכנית שמקבלת ממשתמש רשימה של 10 איברים והופכת כל אחד מ5 זוגות בצורה הבאה:"
   ]
  },
  {
   "cell_type": "code",
   "execution_count": null,
   "metadata": {},
   "outputs": [],
   "source": [
    "def GetAnswer(lis):\n",
    "    couples = [[lis[i], lis[i+1]] for i in range(0, 10, 2)]\n",
    "    return [element for couple in couples for element in [couple[1],couple[0]]]"
   ]
  }
 ],
 "metadata": {
  "kernelspec": {
   "display_name": "Python 3",
   "language": "python",
   "name": "python3"
  },
  "language_info": {
   "codemirror_mode": {
    "name": "ipython",
    "version": 3
   },
   "file_extension": ".py",
   "mimetype": "text/x-python",
   "name": "python",
   "nbconvert_exporter": "python",
   "pygments_lexer": "ipython3",
   "version": "3.8.10"
  }
 },
 "nbformat": 4,
 "nbformat_minor": 2
}
