{
 "cells": [
  {
   "cell_type": "markdown",
   "metadata": {},
   "source": [
    "# תרגול רשימות מתקדם"
   ]
  },
  {
   "cell_type": "markdown",
   "metadata": {},
   "source": [
    "## תרגיל 1\n",
    "א. כתוב תוכנית שמייצרת רשימה ריקה וממלאת אותו 10 ערכים אקראיים בין 0 100\n",
    "\n",
    "ב. הצג את הרשימה שקבלת ממוינת מהערך הקטן לגדול\n",
    "\n",
    "ג. תעתיק את הרשימה לתוך רשימה אחרת ושם תמיין אותה מהגדול לקטן\n",
    "\n",
    "ד. הדפס את האיברים 3 עד 8 ברשימה הממוינת מסעיף ג'\n"
   ]
  },
  {
   "cell_type": "code",
   "execution_count": null,
   "metadata": {},
   "outputs": [],
   "source": [
    "import random\n",
    "theList = [random.randrange(0,100) for i in range(10)]\n",
    "print(f\"Sorted: {sorted(theList)}\\nSorted (Reverse):\",rlist := sorted(theList, reverse=True),f\"\\n3rd to 8th: {rlist[3:9]}\")"
   ]
  },
  {
   "cell_type": "markdown",
   "metadata": {},
   "source": [
    "## שאלה 2\n",
    "א. מה יהיה הפלט של הקוד הבא ? \n",
    "\n",
    "for i in range(10):\n",
    "\n",
    "* a.append(i+1)\n",
    " \n",
    "print (a)\n",
    "\n",
    "\n",
    "\n",
    "ב. מה יהיה הפלט של הקוד הבא\n",
    "\n",
    "a=[i+1 for i in range(10)] \n",
    "\n",
    "print (a)\n",
    "\n",
    "### תשובה:\n",
    "1. [1, 2, 3, 4, 5, 6, 7, 8, 9, 10]\n",
    "2. [1, 2, 3, 4, 5, 6, 7, 8, 9, 10]"
   ]
  },
  {
   "cell_type": "markdown",
   "metadata": {},
   "source": [
    "## שאלה 3\n",
    "כתוב תוכנית ש סופרת ערכים מופיעים רק פעם אחת בתוך הרשימה."
   ]
  },
  {
   "cell_type": "code",
   "execution_count": null,
   "metadata": {},
   "outputs": [],
   "source": [
    "theList = [input('Write literally anything: ') for i in range(5)]\n",
    "print(len([value for value in theList if theList.count(value) == 1]))"
   ]
  },
  {
   "cell_type": "markdown",
   "metadata": {},
   "source": [
    "## שאלה 4\n",
    "כתוב תוכנית שבודקת האם רשימה מכילה איברים בטווח הנתון."
   ]
  },
  {
   "cell_type": "code",
   "execution_count": null,
   "metadata": {},
   "outputs": [],
   "source": [
    "def CheckWithinRange(rangeStart, rangeEnd, list):\n",
    "    return len([i for i in list if range(rangeStart, rangeEnd).count(i) > 0]) > 0"
   ]
  },
  {
   "cell_type": "markdown",
   "metadata": {},
   "source": [
    "## שאלה 5\n",
    "כתוב תוכנית שמקבלת 3 ספרות ומדפיסה את כל הסידורים של ספרות האלה."
   ]
  },
  {
   "cell_type": "code",
   "execution_count": null,
   "metadata": {},
   "outputs": [],
   "source": [
    "def GetCombinations(list):\n",
    "    return [[list[i//9], list[(i%9)//3], list[i%3]] for i in [5, 7, 11, 15, 19, 24]]"
   ]
  },
  {
   "cell_type": "markdown",
   "metadata": {},
   "source": [
    "## שאלה 6\n",
    "כתוב תוכנית המקבלת מהמשתמש מספרים שלמים בזה אחר זה . הקלט יסתיים כאשר \n",
    "    המשתמש יכניס מספר שלילי. התוכנית תגדיר רשימה ריקה ותמלא אותה במספרים אשר\n",
    "   המתקבלים מהמשתמש אם הם זוגיים ואינם נמצאים כבר ברשימה .\n",
    "   התוכנית תמיין את הרשימה ותדפיס אותה ללא שני האיברים הראשונים וללא שני האיברים \n",
    "   האחרונים ."
   ]
  },
  {
   "cell_type": "code",
   "execution_count": null,
   "metadata": {},
   "outputs": [],
   "source": [
    "theList = []\n",
    "while((i := int(input('Write any positive number, a negative number will end the program: '))) > 0):\n",
    "    if i % 2 == 0 and theList.count(i) == 0: \n",
    "        theList.append(i)\n",
    "print(theList)"
   ]
  }
 ],
 "metadata": {
  "kernelspec": {
   "display_name": "Python 3",
   "language": "python",
   "name": "python3"
  },
  "language_info": {
   "codemirror_mode": {
    "name": "ipython",
    "version": 3
   },
   "file_extension": ".py",
   "mimetype": "text/x-python",
   "name": "python",
   "nbconvert_exporter": "python",
   "pygments_lexer": "ipython3",
   "version": "3.8.10"
  }
 },
 "nbformat": 4,
 "nbformat_minor": 2
}
