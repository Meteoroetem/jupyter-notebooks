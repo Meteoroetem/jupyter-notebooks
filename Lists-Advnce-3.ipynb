{
 "cells": [
  {
   "cell_type": "markdown",
   "metadata": {},
   "source": [
    "# תרגילים מתקדמים ברשימות - חלק 3\n"
   ]
  },
  {
   "cell_type": "markdown",
   "metadata": {},
   "source": [
    "## שאלה 1\n"
   ]
  },
  {
   "cell_type": "code",
   "execution_count": null,
   "metadata": {},
   "outputs": [],
   "source": [
    "arrays = [[],[]]\n",
    "while (inp := int(input('Write a number: '))) >= 0:\n",
    "    arrays[inp % 2].append(inp)\n",
    "print(arrays[0] + arrays[1][::-1])"
   ]
  },
  {
   "cell_type": "markdown",
   "metadata": {},
   "source": [
    "## שאלה 2\n"
   ]
  },
  {
   "cell_type": "code",
   "execution_count": null,
   "metadata": {},
   "outputs": [],
   "source": [
    "arraysWithLastDigit = [[] for i in range(10)]\n",
    "while (inp := int(input('Write a number: '))) >= 0:\n",
    "    arraysWithLastDigit[inp % 10].append(inp)\n",
    "print(arraysWithLastDigit)\n",
    "print([sum(lis) for lis in arraysWithLastDigit])"
   ]
  },
  {
   "cell_type": "markdown",
   "metadata": {},
   "source": [
    "## שאלה 3"
   ]
  },
  {
   "cell_type": "code",
   "execution_count": null,
   "metadata": {},
   "outputs": [],
   "source": [
    "def GetAnswer(lis, num1, num2):\n",
    "    num1Index = lis.index(num1)\n",
    "    num2Index = lis.index(num2)\n",
    "    return [lis[i] if i != num1Index and i != num2Index else lis[num1Index if i == num2Index else num2Index] for i in range(len(lis))]\n",
    "print(GetAnswer([2,5,1,7,9,2,3], 5, 2))"
   ]
  }
 ],
 "metadata": {
  "kernelspec": {
   "display_name": "Python 3",
   "language": "python",
   "name": "python3"
  },
  "language_info": {
   "codemirror_mode": {
    "name": "ipython",
    "version": 3
   },
   "file_extension": ".py",
   "mimetype": "text/x-python",
   "name": "python",
   "nbconvert_exporter": "python",
   "pygments_lexer": "ipython3",
   "version": "3.8.10"
  }
 },
 "nbformat": 4,
 "nbformat_minor": 2
}
