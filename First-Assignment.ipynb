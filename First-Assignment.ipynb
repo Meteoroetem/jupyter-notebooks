{
 "cells": [
  {
   "cell_type": "markdown",
   "metadata": {},
   "source": [
    "# First Assignment"
   ]
  },
  {
   "cell_type": "markdown",
   "metadata": {},
   "source": [
    "## Q. 6\n",
    "כתוב תוכנית המקבלת מהמשתמש מספרים שלמים ארבע-ספרתיים בזב אחר זה. התתוכנית תדפיס את סכום הספרות של כל מספר. התוכנית תסתיים כאשר המשתמש לא יכניס מספר עם ארבע ספרות"
   ]
  },
  {
   "cell_type": "code",
   "execution_count": null,
   "metadata": {},
   "outputs": [],
   "source": [
    "while True:\n",
    "    inp = str(input('Write a four digit number: '))\n",
    "    if len(inp) != 4:\n",
    "        break\n",
    "    digits = [int(digit) for digit in inp]\n",
    "    print(sum(digits))"
   ]
  },
  {
   "cell_type": "markdown",
   "metadata": {},
   "source": [
    "## Q. 7\n",
    "כתוב תוכנית שמגרילה 20 מספרים שלמים אקראיים בין 0 ל-10, ומדפיסה למסך רק את המספרים הזוגיים, ואת סכומם"
   ]
  },
  {
   "cell_type": "code",
   "execution_count": null,
   "metadata": {},
   "outputs": [],
   "source": [
    "import random\n",
    "nums = {random.randint(1,9) for i in range(20)}\n",
    "evenNums = nums & {2,4,6,8}\n",
    "print(evenNums)\n",
    "print(sum(evenNums))"
   ]
  },
  {
   "cell_type": "markdown",
   "metadata": {},
   "source": [
    "# Q. 8\n",
    "כתוב תוכנית המקבלת מהמשתמש 20 מספרים עשרוניים. התוכנית תחשב ותדפיס את המספרים וסכומם כאשר הם מעוגלים למספר שלם, כלפי מעלה."
   ]
  },
  {
   "cell_type": "code",
   "execution_count": null,
   "metadata": {},
   "outputs": [],
   "source": [
    "import math\n",
    "nums = [math.ceil(float(input(\"Write a floating point number: \"))) for i in range(20)]\n",
    "print(sum(nums))"
   ]
  },
  {
   "cell_type": "markdown",
   "metadata": {},
   "source": [
    "# Q. 9\n",
    "כתוב תוכנית המקבלת מהמשתמש רצף של מספריים שלמים חיוביים. התוכנית תדפיס למסך מהו האור של הרצף הגדול ביותר (אותו מספר שמופיע ברצף, כמה פעמים הוא מופיע) הקלט יסתיים כאשר המשתמש יכניס מספר שלילי."
   ]
  },
  {
   "cell_type": "code",
   "execution_count": 5,
   "metadata": {},
   "outputs": [
    {
     "name": "stdout",
     "output_type": "stream",
     "text": [
      "5\n"
     ]
    }
   ],
   "source": [
    "inp = str(input('Write a character sequence of any length:\\n'))\n",
    "high = 0\n",
    "cnt = 0\n",
    "for i in range(len(inp)):\n",
    "    try:\n",
    "        if inp[i] == inp[i+1]:\n",
    "            cnt +=1\n",
    "        else:\n",
    "            high = cnt\n",
    "            cnt = 0\n",
    "    except IndexError:\n",
    "        break\n",
    "print(high+1)"
   ]
  }
 ],
 "metadata": {
  "kernelspec": {
   "display_name": "Python 3",
   "language": "python",
   "name": "python3"
  },
  "language_info": {
   "codemirror_mode": {
    "name": "ipython",
    "version": 3
   },
   "file_extension": ".py",
   "mimetype": "text/x-python",
   "name": "python",
   "nbconvert_exporter": "python",
   "pygments_lexer": "ipython3",
   "version": "3.8.10"
  },
  "orig_nbformat": 4
 },
 "nbformat": 4,
 "nbformat_minor": 2
}
