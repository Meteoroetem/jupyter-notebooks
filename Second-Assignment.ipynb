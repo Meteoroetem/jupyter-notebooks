{
 "cells": [
  {
   "cell_type": "markdown",
   "metadata": {},
   "source": [
    "## Second Python Assignment\n",
    "Rotem Kassif"
   ]
  },
  {
   "cell_type": "markdown",
   "metadata": {},
   "source": [
    "### Q. 1\n",
    "כתוב תוכנית שתקלוט מהמשתמש 30 מחרוזות. התוכנית תדפיס:\n",
    "1. את אורך המחרוזת הארוכה ביותר\n",
    "2. כמה מחרוזות באורך 5 נקלטו\n",
    "3. את המחרוזות בהן כל האותיות הן אותיות גדולות"
   ]
  },
  {
   "cell_type": "code",
   "execution_count": null,
   "metadata": {},
   "outputs": [],
   "source": [
    "strings = [str(input('Write any sequence of characters:\\n')) for i in range(30)]\n",
    "strings.sort(key=len)\n",
    "withLengthFive = [string for string in strings if len(string) == 5]\n",
    "withCapitalLetters = [string for string in strings if string.isupper()]\n",
    "print(f'The longest string: {len(strings[len(strings)-1])}\\nNumber of strings with length 5: {len(withLengthFive)}\\n' + \n",
    "      f'strings with all caps: {withCapitalLetters}')"
   ]
  },
  {
   "cell_type": "markdown",
   "metadata": {},
   "source": [
    "### Q. 2\n",
    "כתוב תוכנית שתקלוט מהמשתמש 10 מחרוזות. התוכנית תדפיס:\n",
    "1. את כל המחרוזות יחד כמחרוזת אחת ארוכה\n",
    "2. and היא תוחלף ב end אם תופיע המילה"
   ]
  },
  {
   "cell_type": "code",
   "execution_count": null,
   "metadata": {},
   "outputs": [],
   "source": [
    "longString = \"\"\n",
    "for i in range(10):\n",
    "    longString += str(input('Write any sequence of letters: '))\n",
    "print(longString)\n",
    "print(longString.replace(\"end\",\"and\"))"
   ]
  },
  {
   "cell_type": "markdown",
   "metadata": {},
   "source": [
    "### Q. 3\n",
    "כתוב תוכנית שקולטת מחרוזת הבנויה מאותיות בלבד (הנח שהקלט תקין) התוכנית תמנה ותדפיס למסך כמה אותיות קטנות יש וכמה גדולות"
   ]
  },
  {
   "cell_type": "code",
   "execution_count": null,
   "metadata": {},
   "outputs": [],
   "source": [
    "inp = str(input('Entre a string consisting of only letters: '))\n",
    "lowerLetters = [letter for letter in inp if not letter.isupper()]\n",
    "print(f'There are {len(lowerLetters)} lower letters and {len(inp)-len(lowerLetters)} capital letters')\n"
   ]
  },
  {
   "cell_type": "markdown",
   "metadata": {},
   "source": [
    "### Q. 4\n",
    "כתוב תוכנית שקולטת מחרוזת ומסננת ממנה את כל הספרות והסימנים, ומשאירה אך ורק את האותיות. התוכנית תדפיס למסך את המחרוזת החדשה."
   ]
  },
  {
   "cell_type": "code",
   "execution_count": null,
   "metadata": {},
   "outputs": [],
   "source": [
    "inp = str(input('Write a character sequence: '))\n",
    "onlyLetters = [char for char in inp if not char.isdigit()]\n",
    "print(\"\".join(onlyLetters))"
   ]
  },
  {
   "cell_type": "markdown",
   "metadata": {},
   "source": [
    "### Q. 5\n",
    "כתוב תוכנית שמקבלת מהמשתמש סיסמה. הסיסמה תקינה אם מתקיימים התנאים:\n",
    "- כוללת לפחות אות אחת גדולה\n",
    "- כוללת לפחות ספרה אחת\n",
    "- כוללת לפחות אות אחת קטנה\n",
    "- באורך של 8 תווים או יותר"
   ]
  },
  {
   "cell_type": "code",
   "execution_count": null,
   "metadata": {},
   "outputs": [],
   "source": [
    "def loop():\n",
    "    inp = str(input('Entre a password: '))\n",
    "    if len(inp) < 8:\n",
    "        print(\"The password needs to be at least 8 characters long\\n\")\n",
    "        loop()\n",
    "    lowerLetters = 0\n",
    "    capitalLetters = 0\n",
    "    numbers = 0\n",
    "    for char in inp:\n",
    "        capitalLetters += 1 if char.isupper() else 0\n",
    "        numbers += 1 if char.isdigit() else 0\n",
    "        lowerLetters += 1 if char.isdigit() else 0\n",
    "    if not (capitalLetters > 0 and numbers > 0 and lowerLetters > 0): \n",
    "        print(\"The password most contain a capital letter, a lowercase letter and a number\\n\")\n",
    "        loop()\n",
    "    print(\"Nice password!\")\n",
    "loop()"
   ]
  },
  {
   "cell_type": "markdown",
   "metadata": {},
   "source": [
    "### Q. 6\n",
    " כתוב תוכנית המקבלת מהמשתמש שתי מחרוזות. התוכנית תבדוק ותדפיס למסך כמה פעמים מופיעה המחרוזת הקצרה בתוך המחרוזת הארוכה (יש לבדוק איזו מבין המחרוזות ארוכה יותר)"
   ]
  },
  {
   "cell_type": "code",
   "execution_count": null,
   "metadata": {},
   "outputs": [],
   "source": [
    "inp = str(input('Entre any sequence of characters: '))\n",
    "inp2 = str(input('Entre another one: '))\n",
    "print(inp.count(inp2) if len(inp) > len(inp2) else inp2.count(inp))"
   ]
  }
 ],
 "metadata": {
  "kernelspec": {
   "display_name": "Python 3",
   "language": "python",
   "name": "python3"
  },
  "language_info": {
   "codemirror_mode": {
    "name": "ipython",
    "version": 3
   },
   "file_extension": ".py",
   "mimetype": "text/x-python",
   "name": "python",
   "nbconvert_exporter": "python",
   "pygments_lexer": "ipython3",
   "version": "3.8.10"
  },
  "orig_nbformat": 4
 },
 "nbformat": 4,
 "nbformat_minor": 2
}
