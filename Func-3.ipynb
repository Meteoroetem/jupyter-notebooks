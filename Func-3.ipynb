{
 "cells": [
  {
   "cell_type": "markdown",
   "metadata": {},
   "source": [
    "# פונקציות דף עבודה 3"
   ]
  },
  {
   "cell_type": "markdown",
   "metadata": {},
   "source": [
    "## שאלה 7"
   ]
  },
  {
   "cell_type": "code",
   "execution_count": null,
   "metadata": {},
   "outputs": [],
   "source": [
    "# WasBornIn2009H1 = lambda num1, num2 : num1 >= 1 and num1 <= 6 and num2 == 2009\n",
    "print(len([baby for baby in [str(input(\"Write the month, then year: \")).split(' ') for i in range(1000)] if (lambda num1, num2 : num1 >= 1 and num1 <= 6 and num2 == 2009)(int(baby[0]), int(baby[1]))]))"
   ]
  },
  {
   "cell_type": "markdown",
   "metadata": {},
   "source": [
    "## שאלה 8"
   ]
  },
  {
   "cell_type": "code",
   "execution_count": null,
   "metadata": {},
   "outputs": [],
   "source": [
    "# IsTeen = lambda age : age >= 15 and age <= 18\n",
    "print(len([listenerAge for listenerAge in [int(input(\"Write the age of the listener: \")) for i in range(492)] if (lambda age : age >= 15 and age <= 18)(listenerAge)]))"
   ]
  },
  {
   "cell_type": "markdown",
   "metadata": {},
   "source": [
    "## שאלה 9"
   ]
  },
  {
   "cell_type": "code",
   "execution_count": null,
   "metadata": {},
   "outputs": [],
   "source": [
    "# GetBonus = lambda money, years : (50 if years < 8 else 100) if years > 3 and money > 1200 else 0\n",
    "print(len(memberList := [bonus for bonusStatus in [str(input(\"Write the amount of money and years, seperated by a space: \")).split(' ') for i in range(5)] if (bonus := (lambda money, years : (50 if years < 8 else 100) if years > 3 and money > 1200 else 0)(int(bonusStatus[0]), int(bonusStatus[1]))) > 0]), sum(memberList))"
   ]
  },
  {
   "cell_type": "markdown",
   "metadata": {},
   "source": [
    "## שאלה 10\n",
    "נמאס לי לעשות הכל בשורה אחת\n"
   ]
  },
  {
   "cell_type": "code",
   "execution_count": null,
   "metadata": {},
   "outputs": [],
   "source": [
    "def CountGoodGrades(grade1, grade2, grade3):\n",
    "    return len([grade for grade in [grade1, grade2, grade3] if grade > 90])\n",
    "students = []\n",
    "for i in range(int(input(\"Write the number of students: \"))):\n",
    "    students.append({\"name\":str(input(\"Write the name: \")),\"grade1\":int(input(\"Write grade no. 1: \")),\"grade2\":int(input(\"Write grade no. 2: \")),\"grade3\":int(input(\"Write grade no. 3: \"))})\n",
    "studentsPassed = [student for student in students if CountGoodGrades(student[\"grade1\"], student[\"grade2\"], student[\"grade3\"]) == 3]\n",
    "print(f\"{len(studentsPassed)} students passed:{sum([f'{student[]}\\n' for student in studentsPassed])}\")"
   ]
  }
 ],
 "metadata": {
  "kernelspec": {
   "display_name": "Python 3",
   "language": "python",
   "name": "python3"
  },
  "language_info": {
   "codemirror_mode": {
    "name": "ipython",
    "version": 3
   },
   "file_extension": ".py",
   "mimetype": "text/x-python",
   "name": "python",
   "nbconvert_exporter": "python",
   "pygments_lexer": "ipython3",
   "version": "3.10.13"
  }
 },
 "nbformat": 4,
 "nbformat_minor": 2
}
